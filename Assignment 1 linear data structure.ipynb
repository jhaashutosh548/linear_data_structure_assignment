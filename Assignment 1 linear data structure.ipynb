{
 "cells": [
  {
   "cell_type": "code",
   "execution_count": 1,
   "id": "a05a7019",
   "metadata": {},
   "outputs": [],
   "source": [
    "class ListNode:\n",
    "    def __init__(self, val=0, next=None):\n",
    "        self.val = val\n",
    "        self.next = next\n",
    "\n",
    "def delete_zero_sum(head):\n",
    "    dummy = ListNode(0)\n",
    "    dummy.next = head\n",
    "    prefix_sum = 0\n",
    "    sum_map = {0: dummy}\n",
    "\n",
    "    while head:\n",
    "        prefix_sum += head.val\n",
    "        if prefix_sum in sum_map:\n",
    "            prev = sum_map[prefix_sum]\n",
    "            prev.next = head.next\n",
    "            while prev != head:\n",
    "                prev = prev.next\n",
    "                del sum_map[prefix_sum]\n",
    "        else:\n",
    "            sum_map[prefix_sum] = head\n",
    "        head = head.next\n",
    "\n",
    "    return dummy.next\n"
   ]
  },
  {
   "cell_type": "code",
   "execution_count": 2,
   "id": "fb505ff3",
   "metadata": {},
   "outputs": [],
   "source": [
    "def reverse_in_groups(head, k):\n",
    "    current = head\n",
    "    prev, next_ = None, None\n",
    "    count = 0\n",
    "\n",
    "    while current is not None and count < k:\n",
    "        next_ = current.next\n",
    "        current.next = prev\n",
    "        prev = current\n",
    "        current = next_\n",
    "        count += 1\n",
    "\n",
    "    if next_ is not None:\n",
    "        head.next = reverse_in_groups(next_, k)\n",
    "\n",
    "    return prev\n"
   ]
  },
  {
   "cell_type": "code",
   "execution_count": 3,
   "id": "bf0ee30a",
   "metadata": {},
   "outputs": [],
   "source": [
    "def merge_alternate(head1, head2):\n",
    "    current1, current2 = head1, head2\n",
    "\n",
    "    while current1 is not None and current2 is not None:\n",
    "        next1, next2 = current1.next, current2.next\n",
    "        current1.next = current2\n",
    "        current2.next = next1\n",
    "        current1, current2 = next1, next2\n",
    "\n",
    "    return head1\n"
   ]
  },
  {
   "cell_type": "code",
   "execution_count": 4,
   "id": "d45232ac",
   "metadata": {},
   "outputs": [],
   "source": [
    "def count_pairs_with_sum(arr, target_sum):\n",
    "    count = 0\n",
    "    seen = set()\n",
    "\n",
    "    for num in arr:\n",
    "        complement = target_sum - num\n",
    "        if complement in seen:\n",
    "            count += 1\n",
    "        seen.add(num)\n",
    "\n",
    "    return count\n"
   ]
  },
  {
   "cell_type": "code",
   "execution_count": 5,
   "id": "e2fe3bb9",
   "metadata": {},
   "outputs": [],
   "source": [
    "def find_duplicates(arr):\n",
    "    seen = set()\n",
    "    duplicates = set()\n",
    "\n",
    "    for num in arr:\n",
    "        if num in seen:\n",
    "            duplicates.add(num)\n",
    "        seen.add(num)\n",
    "\n",
    "    return list(duplicates)\n"
   ]
  },
  {
   "cell_type": "code",
   "execution_count": 6,
   "id": "6fd96eaf",
   "metadata": {},
   "outputs": [],
   "source": [
    "def find_kth_largest_smallest(arr, k):\n",
    "    arr.sort()\n",
    "    kth_largest = arr[-k]\n",
    "    kth_smallest = arr[k - 1]\n",
    "\n",
    "    return kth_largest, kth_smallest\n"
   ]
  },
  {
   "cell_type": "code",
   "execution_count": 7,
   "id": "947ff955",
   "metadata": {},
   "outputs": [],
   "source": [
    "def move_negatives(arr):\n",
    "    n = len(arr)\n",
    "    left, right = 0, n - 1\n",
    "\n",
    "    while left <= right:\n",
    "        if arr[left] < 0 and arr[right] < 0:\n",
    "            left += 1\n",
    "        elif arr[left] >= 0 and arr[right] < 0:\n",
    "            arr[left], arr[right] = arr[right], arr[left]\n",
    "            left += 1\n",
    "            right -= 1\n",
    "        elif arr[left] >= 0 and arr[right] >= 0:\n",
    "            right -= 1\n",
    "        else:\n",
    "            left += 1\n",
    "            right -= 1\n",
    "\n",
    "    return arr\n"
   ]
  },
  {
   "cell_type": "code",
   "execution_count": 8,
   "id": "e9b80347",
   "metadata": {},
   "outputs": [],
   "source": [
    "def reverse_string(s):\n",
    "    stack = []\n",
    "    for char in s:\n",
    "        stack.append(char)\n",
    "\n",
    "    reversed_string = \"\"\n",
    "    while stack:\n",
    "        reversed_string += stack.pop()\n",
    "\n",
    "    return reversed_string\n"
   ]
  },
  {
   "cell_type": "code",
   "execution_count": 9,
   "id": "7c5edb5a",
   "metadata": {},
   "outputs": [],
   "source": [
    "def evaluate_postfix(expression):\n",
    "    stack = []\n",
    "\n",
    "    for token in expression:\n",
    "        if token.isdigit():\n",
    "            stack.append(int(token))\n",
    "        else:\n",
    "            num2 = stack.pop()\n",
    "            num1 = stack.pop()\n",
    "            if token == '+':\n",
    "                stack.append(num1 + num2)\n",
    "            elif token == '-':\n",
    "                stack.append(num1 - num2)\n",
    "            elif token == '*':\n",
    "                stack.append(num1 * num2)\n",
    "            elif token == '/':\n",
    "                stack.append(num1 / num2)\n",
    "\n",
    "    return stack.pop()\n"
   ]
  },
  {
   "cell_type": "code",
   "execution_count": 10,
   "id": "fd3aadac",
   "metadata": {},
   "outputs": [],
   "source": [
    "class QueueUsingStack:\n",
    "    def __init__(self):\n",
    "        self.stack1 = []\n",
    "        self.stack2 = []\n",
    "\n",
    "    def enqueue(self, item):\n",
    "        while self.stack1:\n",
    "            self.stack2.append(self.stack1.pop())\n",
    "        self.stack1.append(item)\n",
    "        while self.stack2:\n",
    "            self.stack1.append(self.stack2.pop())\n",
    "\n",
    "    def dequeue(self):\n",
    "        if not self.stack1:\n",
    "            return None\n",
    "        return self.stack1.pop()\n"
   ]
  },
  {
   "cell_type": "code",
   "execution_count": null,
   "id": "734f67c5",
   "metadata": {},
   "outputs": [],
   "source": []
  }
 ],
 "metadata": {
  "kernelspec": {
   "display_name": "Python 3 (ipykernel)",
   "language": "python",
   "name": "python3"
  },
  "language_info": {
   "codemirror_mode": {
    "name": "ipython",
    "version": 3
   },
   "file_extension": ".py",
   "mimetype": "text/x-python",
   "name": "python",
   "nbconvert_exporter": "python",
   "pygments_lexer": "ipython3",
   "version": "3.11.4"
  }
 },
 "nbformat": 4,
 "nbformat_minor": 5
}
